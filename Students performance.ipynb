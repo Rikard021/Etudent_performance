{
 "cells": [
  {
   "cell_type": "code",
   "execution_count": 1,
   "id": "f052c9a7",
   "metadata": {},
   "outputs": [],
   "source": [
    "import pandas as pd\n",
    "import numpy as np\n",
    "import matplotlib.pyplot as plt\n",
    "import seaborn as sns\n",
    "from scipy import stats\n",
    "sns.set_style('whitegrid')"
   ]
  },
  {
   "cell_type": "code",
   "execution_count": 3,
   "id": "8ee746bb",
   "metadata": {},
   "outputs": [
    {
     "data": {
      "text/html": [
       "<div>\n",
       "<style scoped>\n",
       "    .dataframe tbody tr th:only-of-type {\n",
       "        vertical-align: middle;\n",
       "    }\n",
       "\n",
       "    .dataframe tbody tr th {\n",
       "        vertical-align: top;\n",
       "    }\n",
       "\n",
       "    .dataframe thead th {\n",
       "        text-align: right;\n",
       "    }\n",
       "</style>\n",
       "<table border=\"1\" class=\"dataframe\">\n",
       "  <thead>\n",
       "    <tr style=\"text-align: right;\">\n",
       "      <th></th>\n",
       "      <th>gender</th>\n",
       "      <th>race/ethnicity</th>\n",
       "      <th>parental level of education</th>\n",
       "      <th>lunch</th>\n",
       "      <th>test preparation course</th>\n",
       "      <th>math score</th>\n",
       "      <th>reading score</th>\n",
       "      <th>writing score</th>\n",
       "    </tr>\n",
       "  </thead>\n",
       "  <tbody>\n",
       "    <tr>\n",
       "      <th>0</th>\n",
       "      <td>female</td>\n",
       "      <td>group B</td>\n",
       "      <td>bachelor's degree</td>\n",
       "      <td>standard</td>\n",
       "      <td>none</td>\n",
       "      <td>72</td>\n",
       "      <td>72</td>\n",
       "      <td>74</td>\n",
       "    </tr>\n",
       "    <tr>\n",
       "      <th>1</th>\n",
       "      <td>female</td>\n",
       "      <td>group C</td>\n",
       "      <td>some college</td>\n",
       "      <td>standard</td>\n",
       "      <td>completed</td>\n",
       "      <td>69</td>\n",
       "      <td>90</td>\n",
       "      <td>88</td>\n",
       "    </tr>\n",
       "    <tr>\n",
       "      <th>2</th>\n",
       "      <td>female</td>\n",
       "      <td>group B</td>\n",
       "      <td>master's degree</td>\n",
       "      <td>standard</td>\n",
       "      <td>none</td>\n",
       "      <td>90</td>\n",
       "      <td>95</td>\n",
       "      <td>93</td>\n",
       "    </tr>\n",
       "    <tr>\n",
       "      <th>3</th>\n",
       "      <td>male</td>\n",
       "      <td>group A</td>\n",
       "      <td>associate's degree</td>\n",
       "      <td>free/reduced</td>\n",
       "      <td>none</td>\n",
       "      <td>47</td>\n",
       "      <td>57</td>\n",
       "      <td>44</td>\n",
       "    </tr>\n",
       "    <tr>\n",
       "      <th>4</th>\n",
       "      <td>male</td>\n",
       "      <td>group C</td>\n",
       "      <td>some college</td>\n",
       "      <td>standard</td>\n",
       "      <td>none</td>\n",
       "      <td>76</td>\n",
       "      <td>78</td>\n",
       "      <td>75</td>\n",
       "    </tr>\n",
       "  </tbody>\n",
       "</table>\n",
       "</div>"
      ],
      "text/plain": [
       "   gender race/ethnicity parental level of education         lunch  \\\n",
       "0  female        group B           bachelor's degree      standard   \n",
       "1  female        group C                some college      standard   \n",
       "2  female        group B             master's degree      standard   \n",
       "3    male        group A          associate's degree  free/reduced   \n",
       "4    male        group C                some college      standard   \n",
       "\n",
       "  test preparation course  math score  reading score  writing score  \n",
       "0                    none          72             72             74  \n",
       "1               completed          69             90             88  \n",
       "2                    none          90             95             93  \n",
       "3                    none          47             57             44  \n",
       "4                    none          76             78             75  "
      ]
     },
     "execution_count": 3,
     "metadata": {},
     "output_type": "execute_result"
    }
   ],
   "source": [
    "df = pd.read_csv(\"C:/Users/R Zal/Desktop/Data analysis/Kaggle/EDA/archive/StudentsPerformance.csv\")\n",
    "df.head()"
   ]
  },
  {
   "cell_type": "code",
   "execution_count": 4,
   "id": "eef2345a",
   "metadata": {},
   "outputs": [
    {
     "data": {
      "text/plain": [
       "(1000, 8)"
      ]
     },
     "execution_count": 4,
     "metadata": {},
     "output_type": "execute_result"
    }
   ],
   "source": [
    "df.shape"
   ]
  },
  {
   "cell_type": "code",
   "execution_count": 5,
   "id": "02cffd40",
   "metadata": {},
   "outputs": [
    {
     "data": {
      "text/plain": [
       "Index(['gender', 'race/ethnicity', 'parental level of education', 'lunch',\n",
       "       'test preparation course', 'math score', 'reading score',\n",
       "       'writing score'],\n",
       "      dtype='object')"
      ]
     },
     "execution_count": 5,
     "metadata": {},
     "output_type": "execute_result"
    }
   ],
   "source": [
    "df.columns"
   ]
  },
  {
   "cell_type": "code",
   "execution_count": 8,
   "id": "d0d51e62",
   "metadata": {},
   "outputs": [],
   "source": [
    "# Renaming the columns\n",
    "\n",
    "df.rename(columns={'race/ethnicity':'race','parental level of education':'parent_education', \n",
    "                    'test preparation course':'preparation_course'}, inplace=True)"
   ]
  },
  {
   "cell_type": "code",
   "execution_count": 9,
   "id": "fee7058b",
   "metadata": {},
   "outputs": [
    {
     "data": {
      "text/html": [
       "<div>\n",
       "<style scoped>\n",
       "    .dataframe tbody tr th:only-of-type {\n",
       "        vertical-align: middle;\n",
       "    }\n",
       "\n",
       "    .dataframe tbody tr th {\n",
       "        vertical-align: top;\n",
       "    }\n",
       "\n",
       "    .dataframe thead th {\n",
       "        text-align: right;\n",
       "    }\n",
       "</style>\n",
       "<table border=\"1\" class=\"dataframe\">\n",
       "  <thead>\n",
       "    <tr style=\"text-align: right;\">\n",
       "      <th></th>\n",
       "      <th>gender</th>\n",
       "      <th>race</th>\n",
       "      <th>parent_education</th>\n",
       "      <th>lunch</th>\n",
       "      <th>preparation_course</th>\n",
       "      <th>math score</th>\n",
       "      <th>reading score</th>\n",
       "      <th>writing score</th>\n",
       "    </tr>\n",
       "  </thead>\n",
       "  <tbody>\n",
       "    <tr>\n",
       "      <th>0</th>\n",
       "      <td>female</td>\n",
       "      <td>group B</td>\n",
       "      <td>bachelor's degree</td>\n",
       "      <td>standard</td>\n",
       "      <td>none</td>\n",
       "      <td>72</td>\n",
       "      <td>72</td>\n",
       "      <td>74</td>\n",
       "    </tr>\n",
       "    <tr>\n",
       "      <th>1</th>\n",
       "      <td>female</td>\n",
       "      <td>group C</td>\n",
       "      <td>some college</td>\n",
       "      <td>standard</td>\n",
       "      <td>completed</td>\n",
       "      <td>69</td>\n",
       "      <td>90</td>\n",
       "      <td>88</td>\n",
       "    </tr>\n",
       "  </tbody>\n",
       "</table>\n",
       "</div>"
      ],
      "text/plain": [
       "   gender     race   parent_education     lunch preparation_course  \\\n",
       "0  female  group B  bachelor's degree  standard               none   \n",
       "1  female  group C       some college  standard          completed   \n",
       "\n",
       "   math score  reading score  writing score  \n",
       "0          72             72             74  \n",
       "1          69             90             88  "
      ]
     },
     "execution_count": 9,
     "metadata": {},
     "output_type": "execute_result"
    }
   ],
   "source": [
    "df.head(2)"
   ]
  },
  {
   "cell_type": "code",
   "execution_count": 10,
   "id": "22953141",
   "metadata": {},
   "outputs": [
    {
     "data": {
      "text/plain": [
       "gender                0\n",
       "race                  0\n",
       "parent_education      0\n",
       "lunch                 0\n",
       "preparation_course    0\n",
       "math score            0\n",
       "reading score         0\n",
       "writing score         0\n",
       "dtype: int64"
      ]
     },
     "execution_count": 10,
     "metadata": {},
     "output_type": "execute_result"
    }
   ],
   "source": [
    "# Looking for null values\n",
    "\n",
    "df.isnull().sum()"
   ]
  },
  {
   "cell_type": "code",
   "execution_count": 11,
   "id": "8b92fd1a",
   "metadata": {},
   "outputs": [],
   "source": [
    "# Search for duplicates\n",
    "\n",
    "duplicates = df.duplicated()"
   ]
  },
  {
   "cell_type": "code",
   "execution_count": 12,
   "id": "1532b917",
   "metadata": {},
   "outputs": [
    {
     "data": {
      "text/html": [
       "<div>\n",
       "<style scoped>\n",
       "    .dataframe tbody tr th:only-of-type {\n",
       "        vertical-align: middle;\n",
       "    }\n",
       "\n",
       "    .dataframe tbody tr th {\n",
       "        vertical-align: top;\n",
       "    }\n",
       "\n",
       "    .dataframe thead th {\n",
       "        text-align: right;\n",
       "    }\n",
       "</style>\n",
       "<table border=\"1\" class=\"dataframe\">\n",
       "  <thead>\n",
       "    <tr style=\"text-align: right;\">\n",
       "      <th></th>\n",
       "      <th>gender</th>\n",
       "      <th>race</th>\n",
       "      <th>parent_education</th>\n",
       "      <th>lunch</th>\n",
       "      <th>preparation_course</th>\n",
       "      <th>math score</th>\n",
       "      <th>reading score</th>\n",
       "      <th>writing score</th>\n",
       "    </tr>\n",
       "  </thead>\n",
       "  <tbody>\n",
       "  </tbody>\n",
       "</table>\n",
       "</div>"
      ],
      "text/plain": [
       "Empty DataFrame\n",
       "Columns: [gender, race, parent_education, lunch, preparation_course, math score, reading score, writing score]\n",
       "Index: []"
      ]
     },
     "execution_count": 12,
     "metadata": {},
     "output_type": "execute_result"
    }
   ],
   "source": [
    "df[duplicates]"
   ]
  },
  {
   "cell_type": "markdown",
   "id": "8ed77aa7",
   "metadata": {},
   "source": [
    "## There are no duplicates or null values in the database"
   ]
  },
  {
   "cell_type": "code",
   "execution_count": 13,
   "id": "9c1e7f6f",
   "metadata": {},
   "outputs": [
    {
     "name": "stdout",
     "output_type": "stream",
     "text": [
      "<class 'pandas.core.frame.DataFrame'>\n",
      "RangeIndex: 1000 entries, 0 to 999\n",
      "Data columns (total 8 columns):\n",
      " #   Column              Non-Null Count  Dtype \n",
      "---  ------              --------------  ----- \n",
      " 0   gender              1000 non-null   object\n",
      " 1   race                1000 non-null   object\n",
      " 2   parent_education    1000 non-null   object\n",
      " 3   lunch               1000 non-null   object\n",
      " 4   preparation_course  1000 non-null   object\n",
      " 5   math score          1000 non-null   int64 \n",
      " 6   reading score       1000 non-null   int64 \n",
      " 7   writing score       1000 non-null   int64 \n",
      "dtypes: int64(3), object(5)\n",
      "memory usage: 62.6+ KB\n"
     ]
    }
   ],
   "source": [
    "# Check that all data is in the correct format\n",
    "\n",
    "df.info()"
   ]
  },
  {
   "cell_type": "markdown",
   "id": "6c8d0c40",
   "metadata": {},
   "source": [
    "## Understanding the data"
   ]
  },
  {
   "cell_type": "code",
   "execution_count": 14,
   "id": "fe6caf0e",
   "metadata": {},
   "outputs": [
    {
     "data": {
      "text/html": [
       "<div>\n",
       "<style scoped>\n",
       "    .dataframe tbody tr th:only-of-type {\n",
       "        vertical-align: middle;\n",
       "    }\n",
       "\n",
       "    .dataframe tbody tr th {\n",
       "        vertical-align: top;\n",
       "    }\n",
       "\n",
       "    .dataframe thead th {\n",
       "        text-align: right;\n",
       "    }\n",
       "</style>\n",
       "<table border=\"1\" class=\"dataframe\">\n",
       "  <thead>\n",
       "    <tr style=\"text-align: right;\">\n",
       "      <th></th>\n",
       "      <th>gender</th>\n",
       "      <th>race</th>\n",
       "      <th>parent_education</th>\n",
       "      <th>lunch</th>\n",
       "      <th>preparation_course</th>\n",
       "    </tr>\n",
       "  </thead>\n",
       "  <tbody>\n",
       "    <tr>\n",
       "      <th>count</th>\n",
       "      <td>1000</td>\n",
       "      <td>1000</td>\n",
       "      <td>1000</td>\n",
       "      <td>1000</td>\n",
       "      <td>1000</td>\n",
       "    </tr>\n",
       "    <tr>\n",
       "      <th>unique</th>\n",
       "      <td>2</td>\n",
       "      <td>5</td>\n",
       "      <td>6</td>\n",
       "      <td>2</td>\n",
       "      <td>2</td>\n",
       "    </tr>\n",
       "    <tr>\n",
       "      <th>top</th>\n",
       "      <td>female</td>\n",
       "      <td>group C</td>\n",
       "      <td>some college</td>\n",
       "      <td>standard</td>\n",
       "      <td>none</td>\n",
       "    </tr>\n",
       "    <tr>\n",
       "      <th>freq</th>\n",
       "      <td>518</td>\n",
       "      <td>319</td>\n",
       "      <td>226</td>\n",
       "      <td>645</td>\n",
       "      <td>642</td>\n",
       "    </tr>\n",
       "  </tbody>\n",
       "</table>\n",
       "</div>"
      ],
      "text/plain": [
       "        gender     race parent_education     lunch preparation_course\n",
       "count     1000     1000             1000      1000               1000\n",
       "unique       2        5                6         2                  2\n",
       "top     female  group C     some college  standard               none\n",
       "freq       518      319              226       645                642"
      ]
     },
     "execution_count": 14,
     "metadata": {},
     "output_type": "execute_result"
    }
   ],
   "source": [
    "df.describe(include=['O'])"
   ]
  },
  {
   "cell_type": "code",
   "execution_count": 15,
   "id": "59f40630",
   "metadata": {},
   "outputs": [
    {
     "data": {
      "text/html": [
       "<div>\n",
       "<style scoped>\n",
       "    .dataframe tbody tr th:only-of-type {\n",
       "        vertical-align: middle;\n",
       "    }\n",
       "\n",
       "    .dataframe tbody tr th {\n",
       "        vertical-align: top;\n",
       "    }\n",
       "\n",
       "    .dataframe thead th {\n",
       "        text-align: right;\n",
       "    }\n",
       "</style>\n",
       "<table border=\"1\" class=\"dataframe\">\n",
       "  <thead>\n",
       "    <tr style=\"text-align: right;\">\n",
       "      <th></th>\n",
       "      <th>math score</th>\n",
       "      <th>reading score</th>\n",
       "      <th>writing score</th>\n",
       "    </tr>\n",
       "  </thead>\n",
       "  <tbody>\n",
       "    <tr>\n",
       "      <th>count</th>\n",
       "      <td>1000.00</td>\n",
       "      <td>1000.00</td>\n",
       "      <td>1000.00</td>\n",
       "    </tr>\n",
       "    <tr>\n",
       "      <th>mean</th>\n",
       "      <td>66.09</td>\n",
       "      <td>69.17</td>\n",
       "      <td>68.05</td>\n",
       "    </tr>\n",
       "    <tr>\n",
       "      <th>std</th>\n",
       "      <td>15.16</td>\n",
       "      <td>14.60</td>\n",
       "      <td>15.20</td>\n",
       "    </tr>\n",
       "    <tr>\n",
       "      <th>min</th>\n",
       "      <td>0.00</td>\n",
       "      <td>17.00</td>\n",
       "      <td>10.00</td>\n",
       "    </tr>\n",
       "    <tr>\n",
       "      <th>25%</th>\n",
       "      <td>57.00</td>\n",
       "      <td>59.00</td>\n",
       "      <td>57.75</td>\n",
       "    </tr>\n",
       "    <tr>\n",
       "      <th>50%</th>\n",
       "      <td>66.00</td>\n",
       "      <td>70.00</td>\n",
       "      <td>69.00</td>\n",
       "    </tr>\n",
       "    <tr>\n",
       "      <th>75%</th>\n",
       "      <td>77.00</td>\n",
       "      <td>79.00</td>\n",
       "      <td>79.00</td>\n",
       "    </tr>\n",
       "    <tr>\n",
       "      <th>max</th>\n",
       "      <td>100.00</td>\n",
       "      <td>100.00</td>\n",
       "      <td>100.00</td>\n",
       "    </tr>\n",
       "  </tbody>\n",
       "</table>\n",
       "</div>"
      ],
      "text/plain": [
       "       math score  reading score  writing score\n",
       "count     1000.00        1000.00        1000.00\n",
       "mean        66.09          69.17          68.05\n",
       "std         15.16          14.60          15.20\n",
       "min          0.00          17.00          10.00\n",
       "25%         57.00          59.00          57.75\n",
       "50%         66.00          70.00          69.00\n",
       "75%         77.00          79.00          79.00\n",
       "max        100.00         100.00         100.00"
      ]
     },
     "execution_count": 15,
     "metadata": {},
     "output_type": "execute_result"
    }
   ],
   "source": [
    "df.describe().round(2)"
   ]
  },
  {
   "cell_type": "markdown",
   "id": "a5030882",
   "metadata": {},
   "source": [
    "## How are the results distributed depending on whether or not the student finished the preparation course?"
   ]
  },
  {
   "cell_type": "code",
   "execution_count": 33,
   "id": "97fc65e7",
   "metadata": {},
   "outputs": [
    {
     "data": {
      "text/plain": [
       "<Figure size 864x576 with 0 Axes>"
      ]
     },
     "metadata": {},
     "output_type": "display_data"
    },
    {
     "data": {
      "image/png": "[encoded data removed]",
      "text/plain": [
       "<Figure size 454.75x360 with 1 Axes>"
      ]
     },
     "metadata": {},
     "output_type": "display_data"
    }
   ],
   "source": [
    "plt.figure(figsize=(12, 8))\n",
    "\n",
    "sns.displot(data=df, x=\"math score\", hue=\"preparation_course\", kde=True, alpha=0.3)\n",
    "\n",
    "plt.title('Math Score in function of Preparation Course', size=16)\n",
    "plt.xlabel('Math Score', size=12)\n",
    "plt.ylabel('Frequency', size=12)\n",
    "\n",
    "plt.show()"
   ]
  },
  {
   "cell_type": "markdown",
   "id": "000e6bf1",
   "metadata": {},
   "source": [
    "### Apparently, in the mathematics exam, the factor of finishing the preparation course or not did not have a difference in the results of the students."
   ]
  },
  {
   "cell_type": "code",
   "execution_count": 34,
   "id": "e20e1e07",
   "metadata": {},
   "outputs": [
    {
     "data": {
      "text/plain": [
       "<Figure size 720x432 with 0 Axes>"
      ]
     },
     "metadata": {},
     "output_type": "display_data"
    },
    {
     "data": {
      "image/png": "[encoded data removed]",
      "text/plain": [
       "<Figure size 454.75x360 with 1 Axes>"
      ]
     },
     "metadata": {},
     "output_type": "display_data"
    }
   ],
   "source": [
    "plt.figure(figsize=(10, 6))\n",
    "\n",
    "sns.displot(data=df, x=\"reading score\", hue=\"preparation_course\", kde=True, alpha=0.3)\n",
    "\n",
    "plt.title('Reading Score in function of Preparation Course', size=16)\n",
    "plt.xlabel('Reading Score', size=12)\n",
    "plt.ylabel('Frequency', size=12)\n",
    "\n",
    "plt.show()"
   ]
  },
  {
   "cell_type": "markdown",
   "id": "644c98e3",
   "metadata": {},
   "source": [
    "### In the case of the reading exam, it can be seen that the students who finished the preparation course achieved higher grades than those who did not finish it."
   ]
  },
  {
   "cell_type": "code",
   "execution_count": 35,
   "id": "7133429d",
   "metadata": {},
   "outputs": [
    {
     "data": {
      "text/plain": [
       "<Figure size 720x432 with 0 Axes>"
      ]
     },
     "metadata": {},
     "output_type": "display_data"
    },
    {
     "data": {
      "image/png": "[encoded data removed]",
      "text/plain": [
       "<Figure size 454.75x360 with 1 Axes>"
      ]
     },
     "metadata": {},
     "output_type": "display_data"
    }
   ],
   "source": [
    "plt.figure(figsize=(10, 6))\n",
    "\n",
    "sns.displot(data=df, x=\"writing score\", hue=\"preparation_course\", kde=True, alpha=0.3)\n",
    "\n",
    "plt.title('Writing Score in function of Preparation Course', size=16)\n",
    "plt.xlabel('Writing Score', size=12)\n",
    "plt.ylabel('Frequency', size=12)\n",
    "\n",
    "plt.show()"
   ]
  },
  {
   "cell_type": "markdown",
   "id": "2af5faf6",
   "metadata": {},
   "source": [
    "### Finally, it can be observed that the marks obtained in the writing exam by those students who completed the preparation course were higher."
   ]
  },
  {
   "cell_type": "markdown",
   "id": "864fd99e",
   "metadata": {},
   "source": [
    "## Let's investigate the differences are statistically significant.\n",
    "#### (in mathematics because apparently according to the graph this difference is non-existent.)"
   ]
  },
  {
   "cell_type": "code",
   "execution_count": 21,
   "id": "ce416e0b",
   "metadata": {},
   "outputs": [],
   "source": [
    "completed = df[df['preparation_course'] == 'completed']\n",
    "not_completed = df[df['preparation_course'] == 'none']"
   ]
  },
  {
   "cell_type": "code",
   "execution_count": 23,
   "id": "6ae14169",
   "metadata": {},
   "outputs": [
    {
     "name": "stdout",
     "output_type": "stream",
     "text": [
      "Estadistica t: 5.704616417349102\n",
      "Valor p: 1.5359134607147415e-08\n"
     ]
    }
   ],
   "source": [
    "t_statistic, p_value = stats.ttest_ind(completed['math score'], not_completed['math score'])\n",
    "\n",
    "print('Estadistica t:', t_statistic)\n",
    "print('Valor p:', p_value)"
   ]
  },
  {
   "cell_type": "markdown",
   "id": "e5e26a76",
   "metadata": {},
   "source": [
    "### The positive value of the t statistic indicates that the mean of the group that completed the preparation course is greater than the mean of the group that did not complete the course. (The higher this value, the greater the difference between means)"
   ]
  },
  {
   "cell_type": "markdown",
   "id": "8212214b",
   "metadata": {},
   "source": [
    "### The p-value is the probability of obtaining the observed results if the null hypothesis is true. The low p value indicates that the observed difference is very unlikely to occur under the null hypothesis, which leads to rejecting the null hypothesis and leads to the conclusion that there is a significant difference between the means of the two groups, contrary to what we first assumed."
   ]
  },
  {
   "cell_type": "markdown",
   "id": "81dd38c1",
   "metadata": {},
   "source": [
    "# But, is there any difference between the performance of students based on gender?"
   ]
  },
  {
   "cell_type": "code",
   "execution_count": 40,
   "id": "e5c9daac",
   "metadata": {},
   "outputs": [
    {
     "data": {
      "text/plain": [
       "<Figure size 576x576 with 0 Axes>"
      ]
     },
     "metadata": {},
     "output_type": "display_data"
    },
    {
     "data": {
      "image/png": "[encoded data removed]",
      "text/plain": [
       "<Figure size 360x360 with 1 Axes>"
      ]
     },
     "metadata": {},
     "output_type": "display_data"
    }
   ],
   "source": [
    "plt.figure(figsize=(8,8))\n",
    "\n",
    "sns.catplot(data=df, x='gender', y='math score', kind=\"box\")\n",
    "plt.xlabel('Gender', size=12)\n",
    "plt.ylabel('Math score', size=12)\n",
    "plt.xticks(size=12)\n",
    "\n",
    "plt.show()"
   ]
  },
  {
   "cell_type": "code",
   "execution_count": 41,
   "id": "22ba8ef9",
   "metadata": {},
   "outputs": [
    {
     "data": {
      "text/plain": [
       "<Figure size 576x576 with 0 Axes>"
      ]
     },
     "metadata": {},
     "output_type": "display_data"
    },
    {
     "data": {
      "image/png": "[encoded data removed]",
      "text/plain": [
       "<Figure size 360x360 with 1 Axes>"
      ]
     },
     "metadata": {},
     "output_type": "display_data"
    }
   ],
   "source": [
    "plt.figure(figsize=(8,8))\n",
    "\n",
    "sns.catplot(data=df, x='gender', y='reading score', kind=\"box\")\n",
    "plt.xlabel('Gender', size=12)\n",
    "plt.ylabel('Reading score', size=12)\n",
    "plt.xticks(size=12)\n",
    "\n",
    "plt.show()"
   ]
  },
  {
   "cell_type": "code",
   "execution_count": 42,
   "id": "156a5694",
   "metadata": {},
   "outputs": [
    {
     "data": {
      "text/plain": [
       "<Figure size 576x576 with 0 Axes>"
      ]
     },
     "metadata": {},
     "output_type": "display_data"
    },
    {
     "data": {
      "image/png": "[encoded data removed]",
      "text/plain": [
       "<Figure size 360x360 with 1 Axes>"
      ]
     },
     "metadata": {},
     "output_type": "display_data"
    }
   ],
   "source": [
    "plt.figure(figsize=(8,8))\n",
    "\n",
    "sns.catplot(data=df, x='gender', y='writing score', kind=\"box\")\n",
    "plt.xlabel('Gender', size=12)\n",
    "plt.ylabel('Writing score', size=12)\n",
    "plt.xticks(size=12)\n",
    "\n",
    "plt.show()"
   ]
  },
  {
   "cell_type": "code",
   "execution_count": 28,
   "id": "a86841a0",
   "metadata": {},
   "outputs": [],
   "source": [
    "group_female = df[df['gender'] == 'female']\n",
    "group_male = df[df['gender'] == 'male']"
   ]
  },
  {
   "cell_type": "code",
   "execution_count": 29,
   "id": "05b455a9",
   "metadata": {},
   "outputs": [
    {
     "name": "stdout",
     "output_type": "stream",
     "text": [
      "Promedio (media) de puntajes para el grupo femenino:\n",
      "math score       63.633205\n",
      "reading score    72.608108\n",
      "writing score    72.467181\n",
      "dtype: float64\n",
      "\n",
      "Promedio (media) de puntajes para el grupo masculino:\n",
      "math score       68.728216\n",
      "reading score    65.473029\n",
      "writing score    63.311203\n",
      "dtype: float64\n"
     ]
    }
   ],
   "source": [
    "mean_female = group_female[['math score', 'reading score', 'writing score']].mean()\n",
    "mean_male = group_male[['math score', 'reading score', 'writing score']].mean()\n",
    "\n",
    "print(\"Promedio (media) de puntajes para el grupo femenino:\")\n",
    "print(mean_female)\n",
    "print(\"\\nPromedio (media) de puntajes para el grupo masculino:\")\n",
    "print(mean_male)"
   ]
  },
  {
   "cell_type": "markdown",
   "id": "7721bb38",
   "metadata": {},
   "source": [
    "### Apparently, in mathematics, boys obtained higher scores on average, while in reading and writing the opposite was the case."
   ]
  },
  {
   "cell_type": "code",
   "execution_count": 30,
   "id": "803e4386",
   "metadata": {},
   "outputs": [
    {
     "name": "stdout",
     "output_type": "stream",
     "text": [
      "math score - T-statistic: -5.383245869828983\n",
      "math score - p-value: 9.120185549328822e-08\n",
      "reading score - T-statistic: 7.959308005187657\n",
      "reading score - p-value: 4.680538743933289e-15\n",
      "writing score - T-statistic: 9.979557910004507\n",
      "writing score - p-value: 2.019877706867934e-22\n"
     ]
    }
   ],
   "source": [
    "group_female = df[df['gender'] == 'female']\n",
    "group_male = df[df['gender'] == 'male']\n",
    "\n",
    "# t-Student para cada variable\n",
    "\n",
    "t_statistic, p_value = stats.ttest_ind(group_female['math score'], group_male['math score'])\n",
    "print(\"math score - T-statistic:\", t_statistic)\n",
    "print(\"math score - p-value:\", p_value)\n",
    "\n",
    "t_statistic, p_value = stats.ttest_ind(group_female['reading score'], group_male['reading score'])\n",
    "print(\"reading score - T-statistic:\", t_statistic)\n",
    "print(\"reading score - p-value:\", p_value)\n",
    "\n",
    "t_statistic, p_value = stats.ttest_ind(group_female['writing score'], group_male['writing score'])\n",
    "print(\"writing score - T-statistic:\", t_statistic)\n",
    "print(\"writing score - p-value:\", p_value)"
   ]
  },
  {
   "cell_type": "markdown",
   "id": "b85eaf04",
   "metadata": {},
   "source": [
    "## In summary, according to the results, significant differences were found in the average scores between men and women in the three subjects. Men scored higher in math, while women scored higher in reading and writing."
   ]
  },
  {
   "cell_type": "code",
   "execution_count": null,
   "id": "ab221b3d",
   "metadata": {},
   "outputs": [],
   "source": []
  }
 ],
 "metadata": {
  "kernelspec": {
   "display_name": "Python 3",
   "language": "python",
   "name": "python3"
  },
  "language_info": {
   "codemirror_mode": {
    "name": "ipython",
    "version": 3
   },
   "file_extension": ".py",
   "mimetype": "text/x-python",
   "name": "python",
   "nbconvert_exporter": "python",
   "pygments_lexer": "ipython3",
   "version": "3.8.8"
  }
 },
 "nbformat": 4,
 "nbformat_minor": 5
}
